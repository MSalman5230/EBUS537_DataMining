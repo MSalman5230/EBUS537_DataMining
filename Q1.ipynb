{
 "metadata": {
  "language_info": {
   "codemirror_mode": {
    "name": "ipython",
    "version": 3
   },
   "file_extension": ".py",
   "mimetype": "text/x-python",
   "name": "python",
   "nbconvert_exporter": "python",
   "pygments_lexer": "ipython3",
   "version": "3.7.9-final"
  },
  "orig_nbformat": 2,
  "kernelspec": {
   "name": "python3",
   "display_name": "Python 3.7.9 64-bit",
   "metadata": {
    "interpreter": {
     "hash": "8ba994734c9bf2803d0df7aecaf4df512dcc76c10efef425686b3dae54ae7386"
    }
   }
  }
 },
 "nbformat": 4,
 "nbformat_minor": 2,
 "cells": [
  {
   "source": [
    "## Packages"
   ],
   "cell_type": "markdown",
   "metadata": {}
  },
  {
   "cell_type": "code",
   "execution_count": 150,
   "metadata": {},
   "outputs": [],
   "source": [
    "import math\n",
    "import numpy as np\n",
    "import pandas as pd"
   ]
  },
  {
   "source": [
    "## Reading the Dataset and organizing the dataset"
   ],
   "cell_type": "markdown",
   "metadata": {}
  },
  {
   "cell_type": "code",
   "execution_count": 151,
   "metadata": {},
   "outputs": [],
   "source": [
    "train_data = pd.read_csv('trainDataset.csv')\n",
    "test_data = pd.read_csv('testDataset.csv')\n",
    "\n",
    "train_data = train_data[['PC', 'Sex', 'Age', 'SS','Survived']]\n",
    "root_node=train_data\n",
    "\n"
   ]
  },
  {
   "source": [
    "## Building Tree"
   ],
   "cell_type": "markdown",
   "metadata": {}
  },
  {
   "cell_type": "code",
   "execution_count": 152,
   "metadata": {},
   "outputs": [
    {
     "output_type": "execute_result",
     "data": {
      "text/plain": [
       "0    132\n",
       "1     68\n",
       "Name: Survived, dtype: int64"
      ]
     },
     "metadata": {},
     "execution_count": 152
    }
   ],
   "source": [
    "root_node[\"Survived\"].value_counts()\n"
   ]
  },
  {
   "cell_type": "code",
   "execution_count": 153,
   "metadata": {},
   "outputs": [],
   "source": [
    "#1st Split on PC ie root_node\n",
    "node_1=root_node[root_node[\"PC\"]==1]\n",
    "node_2=root_node[root_node[\"PC\"]==2]\n",
    "node_3=root_node[root_node[\"PC\"]==3]\n",
    "\n"
   ]
  },
  {
   "source": [
    "### PC=1 Branch"
   ],
   "cell_type": "markdown",
   "metadata": {}
  },
  {
   "cell_type": "code",
   "execution_count": 154,
   "metadata": {},
   "outputs": [
    {
     "output_type": "stream",
     "name": "stdout",
     "text": [
      "Stats for PC=1 :\n 0    21\n1    18\nName: Survived, dtype: int64\n1    4\n0    1\nName: Survived, dtype: int64\n1    7\nName: Survived, dtype: int64\n"
     ]
    }
   ],
   "source": [
    "print(\"Stats for PC=1 :\\n\",node_1[\"Survived\"].value_counts())\n",
    "#2nd Split at Age for node_1\n",
    "node_1_1=node_1[node_1[\"Age\"]==\"child\"] # leaf node - Not Survived . This node is Emtpty but the parrent node for this clild node has Not Survired Majority\n",
    "node_1_2=node_1[node_1[\"Age\"]==\"teenage\"]\n",
    "node_1_3=node_1[node_1[\"Age\"]==\"adult\"]\n",
    "\n",
    "\n",
    "#3rd Split at sex for node_1_2\n",
    "node_1_2_1=node_1_2[node_1_2[\"Sex\"]==\"male\"] # leaf node - Not Survived \n",
    "node_1_2_2=node_1_2[node_1_2[\"Sex\"]==\"female\"] # leaf node -  Survived \n",
    "\n",
    "#3rd Split at sex for node_1_3\n",
    "node_1_3_1=node_1_3[node_1_3[\"Sex\"]==\"male\"]\n",
    "node_1_3_2=node_1_3[node_1_3[\"Sex\"]==\"female\"]\n",
    "\n",
    "\n",
    "#4th Split at SS  for node_1_3_1\n",
    "node_1_3_1_1=node_1_3_1[node_1_3_1[\"SS\"]==0] # leaf node - Not Survived \n",
    "node_1_3_1_2=node_1_3_1[node_1_3_1[\"SS\"]==1] # leaf node - Not Survived \n",
    "\n",
    "#4th Split at SS  for node_1_3_2\n",
    "node_1_3_2_1=node_1_3_2[node_1_3_2[\"SS\"]==0] # leaf node -  Survived \n",
    "node_1_3_2_2=node_1_3_2[node_1_3_2[\"SS\"]==1] # leaf node -  Survived \n",
    "\n",
    "\n",
    "print(node_1_3_2_1[\"Survived\"].value_counts())\n",
    "print(node_1_3_2_2[\"Survived\"].value_counts())\n",
    "\n",
    "\n",
    "\n"
   ]
  },
  {
   "source": [
    "### PC = 2 Branch"
   ],
   "cell_type": "markdown",
   "metadata": {}
  },
  {
   "source": [],
   "cell_type": "markdown",
   "metadata": {}
  },
  {
   "cell_type": "code",
   "execution_count": 155,
   "metadata": {},
   "outputs": [
    {
     "output_type": "stream",
     "name": "stdout",
     "text": [
      "Stats for PC=2 :\n 0    30\n1    21\nName: Survived, dtype: int64 \n----------\n\n1    9\n0    1\nName: Survived, dtype: int64\n1    2\n0    1\nName: Survived, dtype: int64\n"
     ]
    },
    {
     "output_type": "execute_result",
     "data": {
      "text/plain": [
       "'\\n\\n\\n'"
      ]
     },
     "metadata": {},
     "execution_count": 155
    }
   ],
   "source": [
    "print(\"Stats for PC=2 :\\n\",node_2[\"Survived\"].value_counts(),\"\\n----------\\n\")\n",
    "#2nd Split at Age for node_2\n",
    "node_2_1=node_2[node_2[\"Age\"]==\"child\"] # leaf node - Survived . \n",
    "node_2_2=node_2[node_2[\"Age\"]==\"teenage\"]\n",
    "node_2_3=node_2[node_2[\"Age\"]==\"adult\"]\n",
    "\n",
    "\n",
    "\n",
    "#3rd Split at sex for node_2_2\n",
    "node_2_2_1=node_2_2[node_2_2[\"Sex\"]==\"male\"] \n",
    "node_2_2_2=node_2_2[node_2_2[\"Sex\"]==\"female\"] # leaf node -  Survived \n",
    "\n",
    "\n",
    "\n",
    "#3rd Split at sex for node_2_3\n",
    "node_2_3_1=node_2_3[node_2_3[\"Sex\"]==\"male\"]\n",
    "node_2_3_2=node_2_3[node_2_3[\"Sex\"]==\"female\"]\n",
    "\n",
    "\n",
    "\n",
    "#4th Split at SS  for node_2_2_1\n",
    "node_2_2_1_1=node_2_2_1[node_2_2_1[\"SS\"]==0] # leaf node - NOT Survived \n",
    "node_2_2_1_2=node_2_2_1[node_2_2_1[\"SS\"]==1] # leaf node - NOT Survived \n",
    "\n",
    "\n",
    "\n",
    "\n",
    "#4th Split at SS  for node_2_3_1\n",
    "node_2_3_1_1=node_2_3_1[node_2_3_1[\"SS\"]==0] # leaf node - NOT Survived \n",
    "node_2_3_1_2=node_2_3_1[node_2_3_1[\"SS\"]==1] # leaf node - NOT Survived \n",
    "\n",
    "#4th Split at SS  for node_2_3_2\n",
    "node_2_3_2_1=node_2_3_2[node_2_3_2[\"SS\"]==0] # leaf node -  Survived \n",
    "node_2_3_2_2=node_2_3_2[node_2_3_2[\"SS\"]==1] # leaf node -  Survived \n",
    "\n",
    "print(node_2_3_2_1[\"Survived\"].value_counts())\n",
    "print(node_2_3_2_2[\"Survived\"].value_counts())\n",
    "'''\n",
    "\n",
    "\n",
    "'''\n",
    "\n"
   ]
  },
  {
   "source": [
    "### PC = 3"
   ],
   "cell_type": "markdown",
   "metadata": {}
  },
  {
   "source": [],
   "cell_type": "markdown",
   "metadata": {}
  },
  {
   "cell_type": "code",
   "execution_count": 156,
   "metadata": {},
   "outputs": [
    {
     "output_type": "stream",
     "name": "stdout",
     "text": [
      "Stats for PC=3 :\n 0    81\n1    29\nName: Survived, dtype: int64 \n----------\n\n1    6\n0    2\nName: Survived, dtype: int64\n0    5\n1    3\nName: Survived, dtype: int64\n"
     ]
    }
   ],
   "source": [
    "print(\"Stats for PC=3 :\\n\",node_3[\"Survived\"].value_counts(),\"\\n----------\\n\")\n",
    "\n",
    "#2nd Split at Age for node_2\n",
    "node_3_1=node_3[node_3[\"Age\"]==\"child\"]  \n",
    "node_3_2=node_3[node_3[\"Age\"]==\"teenage\"]\n",
    "node_3_3=node_3[node_3[\"Age\"]==\"adult\"]\n",
    "\n",
    "\n",
    "\n",
    "\n",
    "#3rd Split at sex for node_3_1\n",
    "\n",
    "node_3_1_1=node_3_1[node_3_1[\"Sex\"]==\"male\"] \n",
    "node_3_1_2=node_3_1[node_3_1[\"Sex\"]==\"female\"] \n",
    "\n",
    "#3rd Split at sex for node_3_2\n",
    "node_3_2_1=node_3_2[node_3_2[\"Sex\"]==\"male\"] \n",
    "node_3_2_2=node_3_2[node_3_2[\"Sex\"]==\"female\"] \n",
    "\n",
    "#3rd Split at sex for node_3_3\n",
    "node_3_3_1=node_3_3[node_3_3[\"Sex\"]==\"male\"]\n",
    "node_3_3_2=node_3_3[node_3_3[\"Sex\"]==\"female\"]\n",
    "\n",
    "\n",
    "\n",
    "\n",
    "#4th Split at SS  for node_3_1_1\n",
    "node_3_1_1_1=node_3_1_1[node_3_1_1[\"SS\"]==0] # leaf node - Survived \n",
    "node_3_1_1_2=node_3_1_1[node_3_1_1[\"SS\"]==1] # leaf node - NOT Survived \n",
    "\n",
    "#4th Split at SS  for node_3_1_2\n",
    "node_3_1_2_1=node_3_1_2[node_3_1_2[\"SS\"]==0] # leaf node - NOT Survived \n",
    "node_3_1_2_2=node_3_1_2[node_3_1_2[\"SS\"]==1] # leaf node - NOT Survived \n",
    "\n",
    "\n",
    "#4th Split at SS  for node_3_2_1\n",
    "node_3_2_1_1=node_3_2_1[node_3_2_1[\"SS\"]==0] # leaf node - NOT Survived \n",
    "node_3_2_1_2=node_3_2_1[node_3_2_1[\"SS\"]==1] # leaf node - NOT Survived \n",
    "\n",
    "\n",
    "\n",
    "#4th Split at SS  for node_3_2_2\n",
    "node_3_2_2_1=node_3_2_2[node_3_2_2[\"SS\"]==0] # leaf node - Survived \n",
    "node_3_2_2_2=node_3_2_2[node_3_2_2[\"SS\"]==1] # leaf node - NOT Survived \n",
    "\n",
    "\n",
    "\n",
    "\n",
    "#4th Split at SS  for node_3_3_1\n",
    "node_3_3_1_1=node_3_3_1[node_3_3_1[\"SS\"]==0] # leaf node - NOT Survived \n",
    "node_3_3_1_2=node_3_3_1[node_3_3_1[\"SS\"]==1] # leaf node - NOT Survived \n",
    "\n",
    "\n",
    "#4th Split at SS  for node_3_3_2\n",
    "node_3_3_2_1=node_3_3_2[node_3_3_2[\"SS\"]==0] # leaf node - Survived \n",
    "node_3_3_2_2=node_3_3_2[node_3_3_2[\"SS\"]==1] # leaf node - NOT Survived \n",
    "\n",
    "print(node_3_3_2_1[\"Survived\"].value_counts())\n",
    "print(node_3_3_2_2[\"Survived\"].value_counts())\n",
    "\n",
    "\n",
    "\n"
   ]
  },
  {
   "source": [
    "# Result"
   ],
   "cell_type": "markdown",
   "metadata": {}
  },
  {
   "cell_type": "code",
   "execution_count": 157,
   "metadata": {},
   "outputs": [],
   "source": [
    "#Model to test data sets\n",
    "def check_accuracy(dataframe):\n",
    "    accuracy_list=[] #[Actual,Predicted]\n",
    "    Survided_Count=0\n",
    "    Dead_Count=0\n",
    "    for index,row in dataframe.iterrows():\n",
    "        # PC=1---------------------------------------------------------------------------------------------------------\n",
    "        if row[\"PC\"]==1 and row[\"Age\"]==\"teenage\" and row[\"Sex\"]==\"female\": # node_1_2_2\n",
    "            accuracy_list.append([row[\"Survived\"],1])\n",
    "            Survided_Count+= 1\n",
    "\n",
    "        elif row[\"PC\"]==1 and row[\"Age\"]==\"adult\" and row[\"Sex\"]==\"female\" and row[\"SS\"]==0: # node_1_3_2_1\n",
    "            accuracy_list.append([row[\"Survived\"],1])\n",
    "            Survided_Count+= 1\n",
    "\n",
    "        elif row[\"PC\"]==1 and row[\"Age\"]==\"adult\" and row[\"Sex\"]==\"female\" and row[\"SS\"]==1: # node_1_3_2_2\n",
    "            accuracy_list.append([row[\"Survived\"],1])\n",
    "            Survided_Count+= 1\n",
    "\n",
    "\n",
    "        # PC=2---------------------------------------------------------------------------------------------------------\n",
    "        elif row[\"PC\"]==2 and row[\"Age\"]==\"child\": # node_2_1\n",
    "            accuracy_list.append([row[\"Survived\"],1])\n",
    "            Survided_Count+= 1\n",
    "\n",
    "        elif row[\"PC\"]==2 and row[\"Age\"]==\"teenage\" and row[\"Sex\"]==\"female\":# node_2_2_2\n",
    "            accuracy_list.append([row[\"Survived\"],1])\n",
    "            Survided_Count+= 1\n",
    "\n",
    "        elif row[\"PC\"]==2 and row[\"Age\"]==\"adult\" and row[\"Sex\"]==\"female\" and row[\"SS\"]==0:# node_2_3_2_1\n",
    "            accuracy_list.append([row[\"Survived\"],1])\n",
    "            Survided_Count+= 1\n",
    "\n",
    "        elif row[\"PC\"]==2 and row[\"Age\"]==\"adult\" and row[\"Sex\"]==\"female\" and row[\"SS\"]==1:# node_2_3_2_2\n",
    "            accuracy_list.append([row[\"Survived\"],1])\n",
    "            Survided_Count+= 1\n",
    "\n",
    "\n",
    "        #PC=3---------------------------------------------------------------------------------------------------------\n",
    "        elif row[\"PC\"]==3 and row[\"Age\"]==\"child\" and row[\"Sex\"]==\"male\" and row[\"SS\"]==0:\n",
    "            accuracy_list.append([row[\"Survived\"],1])\n",
    "            Survided_Count+= 1\n",
    "\n",
    "        elif row[\"PC\"]==3 and row[\"Age\"]==\"teenage\" and row[\"Sex\"]==\"female\" and row[\"SS\"]==0:\n",
    "            accuracy_list.append([row[\"Survived\"],1])\n",
    "            Survided_Count+= 1\n",
    "\n",
    "        elif row[\"PC\"]==3 and row[\"Age\"]==\"adult\" and row[\"Sex\"]==\"female\" and row[\"SS\"]==0:\n",
    "            accuracy_list.append([row[\"Survived\"],1])\n",
    "            Survided_Count+= 1\n",
    "\n",
    "        else:\n",
    "            accuracy_list.append([row[\"Survived\"],0])\n",
    "            Dead_Count+= 1\n",
    "\n",
    "    #print(Survided_Count)\n",
    "    #print(Dead_Count)\n",
    "    correct=0\n",
    "    for x,y in accuracy_list:\n",
    "        #print(x,y)\n",
    "        if x==y:\n",
    "            correct+=1\n",
    "    print(\"Corretly Predicted\",correct)\n",
    "    accuracy=(correct/len(accuracy_list))*100\n",
    "    print(\"Accuracy is\",accuracy,\"%\")\n",
    "\n",
    "    #Confusion Matrix\n",
    "    Actual_No_and_Predicted_No=0\n",
    "    Actual_No_and_Predicted_Yes=0\n",
    "    Actual_Yes_and_Predicted_Yes=0\n",
    "    Actual_Yes_and_Predicted_No=0\n",
    "    \n",
    "\n",
    "    for x,y in accuracy_list:\n",
    "        if x==0 and y==0:\n",
    "            Actual_No_and_Predicted_No+= 1\n",
    "        elif x==0 and y==1:\n",
    "            Actual_No_and_Predicted_Yes+= 1\n",
    "        elif x==1 and y==1:\n",
    "            Actual_Yes_and_Predicted_Yes+= 1\n",
    "        elif x==1 and y==0:\n",
    "            Actual_Yes_and_Predicted_No+= 1\n",
    "    print(\"\\nActual_No_and_Predicted_No-\",Actual_No_and_Predicted_No)\n",
    "    print(\"Actual_No_and_Predicted_Yes-\",Actual_No_and_Predicted_Yes)\n",
    "    print(\"Actual_Yes_and_Predicted_Yes-\",Actual_Yes_and_Predicted_Yes)\n",
    "    print(\"Actual_Yes_and_Predicted_No-\",Actual_Yes_and_Predicted_No)\n",
    "    print(\"True Positive =\",((Actual_Yes_and_Predicted_Yes/(Actual_Yes_and_Predicted_Yes+Actual_Yes_and_Predicted_No))*100))\n",
    "    print(\"True Negative =\",((Actual_No_and_Predicted_No/(Actual_No_and_Predicted_No+Actual_No_and_Predicted_Yes))*100))\n",
    "\n"
   ]
  },
  {
   "cell_type": "code",
   "execution_count": 158,
   "metadata": {},
   "outputs": [
    {
     "output_type": "stream",
     "name": "stdout",
     "text": [
      "Accuracy for Traning Dataset\nCorretly Predicted 167\nAccuracy is 83.5 %\n\nActual_No_and_Predicted_No- 125\nActual_No_and_Predicted_Yes- 7\nActual_Yes_and_Predicted_Yes- 42\nActual_Yes_and_Predicted_No- 26\nTrue Positive = 61.76470588235294\nTrue Negative = 94.6969696969697\n\n----------------\nAccuracy for Test Dataset\nCorretly Predicted 14\nAccuracy is 70.0 %\n\nActual_No_and_Predicted_No- 6\nActual_No_and_Predicted_Yes- 2\nActual_Yes_and_Predicted_Yes- 8\nActual_Yes_and_Predicted_No- 4\nTrue Positive = 66.66666666666666\nTrue Negative = 75.0\n"
     ]
    }
   ],
   "source": [
    "print(\"Accuracy for Traning Dataset\")\n",
    "check_accuracy(train_data)\n",
    "print(\"\\n----------------\\nAccuracy for Test Dataset\")\n",
    "check_accuracy(test_data)"
   ]
  },
  {
   "cell_type": "code",
   "execution_count": null,
   "metadata": {},
   "outputs": [],
   "source": []
  },
  {
   "cell_type": "code",
   "execution_count": 159,
   "metadata": {},
   "outputs": [
    {
     "output_type": "stream",
     "name": "stdout",
     "text": [
      "Corretly Predicted 490\nAccuracy is 49.049049049049046 %\n\nActual_No_and_Predicted_No- 283\nActual_No_and_Predicted_Yes- 221\nActual_Yes_and_Predicted_Yes- 207\nActual_Yes_and_Predicted_No- 288\nTrue Positive = 41.81818181818181\nTrue Negative = 56.15079365079365\n"
     ]
    }
   ],
   "source": [
    "test_data_random = pd.read_csv('testDataset Random.csv')\n",
    "check_accuracy(test_data_random)\n"
   ]
  }
 ]
}