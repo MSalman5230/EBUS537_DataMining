{
 "metadata": {
  "language_info": {
   "codemirror_mode": {
    "name": "ipython",
    "version": 3
   },
   "file_extension": ".py",
   "mimetype": "text/x-python",
   "name": "python",
   "nbconvert_exporter": "python",
   "pygments_lexer": "ipython3",
   "version": "3.7.9-final"
  },
  "orig_nbformat": 2,
  "kernelspec": {
   "name": "python3",
   "display_name": "Python 3.7.9 64-bit",
   "metadata": {
    "interpreter": {
     "hash": "8ba994734c9bf2803d0df7aecaf4df512dcc76c10efef425686b3dae54ae7386"
    }
   }
  }
 },
 "nbformat": 4,
 "nbformat_minor": 2,
 "cells": [
  {
   "cell_type": "code",
   "execution_count": 37,
   "metadata": {},
   "outputs": [],
   "source": [
    "import math\n",
    "import numpy as np\n",
    "import pandas as pd"
   ]
  },
  {
   "cell_type": "code",
   "execution_count": 38,
   "metadata": {},
   "outputs": [],
   "source": [
    "#Loding The Test and Train Data\n",
    "train_data = pd.read_csv('trainDataset.csv')\n",
    "test_data = pd.read_csv('testDataset.csv')"
   ]
  },
  {
   "source": [
    "# Tree 1 Pruned Check Funtion"
   ],
   "cell_type": "markdown",
   "metadata": {}
  },
  {
   "cell_type": "code",
   "execution_count": 39,
   "metadata": {},
   "outputs": [],
   "source": [
    "def tree1_pruned(dataframe):\n",
    "    accuracy_list=[] #[Actual,Predicted]\n",
    "    Survived_Count=0\n",
    "    Dead_Count=0\n",
    "    for index,row in dataframe.iterrows():\n",
    "        # PC=1---------------------------------------------------------------------------------------------------------\n",
    "        if row[\"PC\"]==1 and row[\"Age\"]==\"adult\" and row[\"Sex\"]==\"female\" : # node_1_3_2_1\n",
    "            accuracy_list.append([row[\"Survived\"],1])\n",
    "            Survived_Count+= 1\n",
    "\n",
    "       \n",
    "\n",
    "        # PC=2---------------------------------------------------------------------------------------------------------\n",
    "        elif row[\"PC\"]==2 and row[\"Age\"]==\"child\": # node_2_1\n",
    "            accuracy_list.append([row[\"Survived\"],1])\n",
    "            Survived_Count+= 1\n",
    "\n",
    "        elif row[\"PC\"]==2 and row[\"Age\"]==\"teenage\" and row[\"Sex\"]==\"female\":# node_2_2_2\n",
    "            accuracy_list.append([row[\"Survived\"],1])\n",
    "            Survived_Count+= 1\n",
    "\n",
    "        elif row[\"PC\"]==2 and row[\"Age\"]==\"adult\" and row[\"Sex\"]==\"female\":# node_2_3_2_1\n",
    "            accuracy_list.append([row[\"Survived\"],1])\n",
    "            Survived_Count+= 1\n",
    "\n",
    "\n",
    "        #PC=3---------------------------------------------------------------------------------------------------------\n",
    "        \n",
    "        elif row[\"PC\"]==3 and row[\"Age\"]==\"child\" and row[\"Sex\"]==\"male\" and row[\"SS\"]==0:\n",
    "            accuracy_list.append([row[\"Survived\"],1])\n",
    "            Survived_Count+= 1\n",
    "\n",
    "        elif row[\"PC\"]==3 and row[\"Age\"]==\"teenage\" and row[\"Sex\"]==\"female\" and row[\"SS\"]==0:\n",
    "            accuracy_list.append([row[\"Survived\"],1])\n",
    "            Survived_Count+= 1\n",
    "\n",
    "        elif row[\"PC\"]==3 and row[\"Age\"]==\"adult\" and row[\"Sex\"]==\"female\" and row[\"SS\"]==0:\n",
    "            accuracy_list.append([row[\"Survived\"],1])\n",
    "            Survived_Count+= 1\n",
    "            \n",
    "        #else all Not Survued\n",
    "        else:\n",
    "            accuracy_list.append([row[\"Survived\"],0])\n",
    "            Dead_Count+= 1\n",
    "\n",
    "    #print(Survived_Count)\n",
    "    #print(Dead_Count)\n",
    "    correct=0\n",
    "    for x,y in accuracy_list:\n",
    "        if x==y:\n",
    "            correct+=1\n",
    "    #print(correct)\n",
    "    accuracy=(correct/len(accuracy_list))*100\n",
    "    print(\"Accuracy is\",accuracy)\n",
    "    print(\"Corretly Predicted\",correct)\n",
    "\n",
    "    #Confusion Matrix\n",
    "    Actual_No_and_Predicted_No=0\n",
    "    Actual_No_and_Predicted_Yes=0\n",
    "    Actual_Yes_and_Predicted_Yes=0\n",
    "    Actual_Yes_and_Predicted_No=0\n",
    "    \n",
    "\n",
    "    for x,y in accuracy_list:\n",
    "        if x==0 and y==0:\n",
    "            Actual_No_and_Predicted_No+= 1\n",
    "        elif x==0 and y==1:\n",
    "            Actual_No_and_Predicted_Yes+= 1\n",
    "        elif x==1 and y==1:\n",
    "            Actual_Yes_and_Predicted_Yes+= 1\n",
    "        elif x==1 and y==0:\n",
    "            Actual_Yes_and_Predicted_No+= 1\n",
    "    print(\"\\nActual_No_and_Predicted_No-\",Actual_No_and_Predicted_No)\n",
    "    print(\"Actual_No_and_Predicted_Yes-\",Actual_No_and_Predicted_Yes)\n",
    "    print(\"Actual_Yes_and_Predicted_Yes-\",Actual_Yes_and_Predicted_Yes)\n",
    "    print(\"Actual_Yes_and_Predicted_No-\",Actual_Yes_and_Predicted_No)\n",
    "    print(\"True Positive =\",((Actual_Yes_and_Predicted_Yes/(Actual_Yes_and_Predicted_Yes+Actual_Yes_and_Predicted_No))*100))\n",
    "    print(\"True Negative =\",((Actual_No_and_Predicted_No/(Actual_No_and_Predicted_No+Actual_No_and_Predicted_Yes))*100))\n"
   ]
  },
  {
   "source": [
    "# Tree 2 Pruned Check Funtion"
   ],
   "cell_type": "markdown",
   "metadata": {}
  },
  {
   "cell_type": "code",
   "execution_count": 40,
   "metadata": {},
   "outputs": [],
   "source": [
    "def tree2_pruned(dataframe):\n",
    "    accuracy_list=[] #[Actual,Predicted]\n",
    "    Survided_Count=0\n",
    "    Dead_Count=0\n",
    "    for index,row in dataframe.iterrows():\n",
    "        # Sex=male---------------------------------------------------------------------------------------------------------\n",
    "        if row[\"Sex\"]==\"male\" and row[\"Age\"]==\"child\" and row[\"PC\"]==2 : # node_1_1_2\n",
    "            accuracy_list.append([row[\"Survived\"],1])\n",
    "            Survided_Count+= 1\n",
    "\n",
    "        elif row[\"Sex\"]==\"male\" and row[\"Age\"]==\"child\" and row[\"PC\"]==3 and row[\"SS\"]==0 : # node_1_1_2\n",
    "            accuracy_list.append([row[\"Survived\"],1])\n",
    "            Survided_Count+= 1\n",
    "\n",
    "        \n",
    "\n",
    "\n",
    "        # Sex=female---------------------------------------------------------------------------------------------------------\n",
    "\n",
    "        # PC=1\n",
    "        elif row[\"Sex\"]==\"female\" and row[\"PC\"]==1: # node_2_1_1_1\n",
    "            accuracy_list.append([row[\"Survived\"],1])\n",
    "            Survided_Count+= 1\n",
    "\n",
    "        # PC=2\n",
    "        elif row[\"Sex\"]==\"female\" and row[\"PC\"]==2: # node_2_1_1_2\n",
    "            accuracy_list.append([row[\"Survived\"],1])\n",
    "            Survided_Count+= 1\n",
    "\n",
    "        # PC=3\n",
    "        elif row[\"Sex\"]==\"female\" and row[\"PC\"]==3 and row[\"SS\"]==0 : # node_2_3_1_1\n",
    "            accuracy_list.append([row[\"Survived\"],1])\n",
    "            Survided_Count+= 1\n",
    "\n",
    "       \n",
    "\n",
    "        # Assinging Dead to accuracy_list\n",
    "        else:\n",
    "            accuracy_list.append([row[\"Survived\"],0])\n",
    "            Dead_Count+= 1\n",
    "\n",
    "    #print(Survided_Count)\n",
    "    #print(Dead_Count)\n",
    "    correct=0\n",
    "    for x,y in accuracy_list:\n",
    "        if x==y:\n",
    "            correct+=1\n",
    "\n",
    "    print(\"Total Record\",len(accuracy_list))\n",
    "    accuracy=(correct/len(accuracy_list))*100\n",
    "    print(\"Accuracy is\",accuracy)\n",
    "    print(\"Corretly Predicted\",correct)\n",
    "\n",
    "    #Confusion Matrix\n",
    "    Actual_No_and_Predicted_No=0\n",
    "    Actual_No_and_Predicted_Yes=0\n",
    "    Actual_Yes_and_Predicted_Yes=0\n",
    "    Actual_Yes_and_Predicted_No=0\n",
    "    \n",
    "\n",
    "    for x,y in accuracy_list:\n",
    "        if x==0 and y==0:\n",
    "            Actual_No_and_Predicted_No+= 1\n",
    "        elif x==0 and y==1:\n",
    "            Actual_No_and_Predicted_Yes+= 1\n",
    "        elif x==1 and y==1:\n",
    "            Actual_Yes_and_Predicted_Yes+= 1\n",
    "        elif x==1 and y==0:\n",
    "            Actual_Yes_and_Predicted_No+= 1\n",
    "    print(\"\\nActual_No_and_Predicted_No-\",Actual_No_and_Predicted_No)\n",
    "    print(\"Actual_No_and_Predicted_Yes-\",Actual_No_and_Predicted_Yes)\n",
    "    print(\"Actual_Yes_and_Predicted_Yes-\",Actual_Yes_and_Predicted_Yes)\n",
    "    print(\"Actual_Yes_and_Predicted_No-\",Actual_Yes_and_Predicted_No)\n",
    "    print(\"True Positive =\",((Actual_Yes_and_Predicted_Yes/(Actual_Yes_and_Predicted_Yes+Actual_Yes_and_Predicted_No))*100))\n",
    "    print(\"True Negative =\",((Actual_No_and_Predicted_No/(Actual_No_and_Predicted_No+Actual_No_and_Predicted_Yes))*100))"
   ]
  },
  {
   "cell_type": "code",
   "execution_count": 41,
   "metadata": {},
   "outputs": [
    {
     "output_type": "stream",
     "name": "stdout",
     "text": [
      "---------Pruned---------\n---------Tree1---------\nTrain_Data\nAccuracy is 83.0\nCorretly Predicted 166\n\nActual_No_and_Predicted_No- 125\nActual_No_and_Predicted_Yes- 7\nActual_Yes_and_Predicted_Yes- 41\nActual_Yes_and_Predicted_No- 27\nTrue Positive = 60.29411764705882\nTrue Negative = 94.6969696969697\n\nTest_Data\nAccuracy is 70.0\nCorretly Predicted 14\n\nActual_No_and_Predicted_No- 6\nActual_No_and_Predicted_Yes- 2\nActual_Yes_and_Predicted_Yes- 8\nActual_Yes_and_Predicted_No- 4\nTrue Positive = 66.66666666666666\nTrue Negative = 75.0\n"
     ]
    }
   ],
   "source": [
    "print(\"---------Pruned---------\")\n",
    "print(\"---------Tree1---------\")\n",
    "print(\"Train_Data\")\n",
    "tree1_pruned(train_data)\n",
    "print(\"\\nTest_Data\")\n",
    "tree1_pruned(test_data)\n",
    "\n"
   ]
  },
  {
   "cell_type": "code",
   "execution_count": 42,
   "metadata": {},
   "outputs": [
    {
     "output_type": "stream",
     "name": "stdout",
     "text": [
      "\n\n---------Tree2---------\nTrain_Data\nTotal Record 200\nAccuracy is 83.5\nCorretly Predicted 167\n\nActual_No_and_Predicted_No- 124\nActual_No_and_Predicted_Yes- 8\nActual_Yes_and_Predicted_Yes- 43\nActual_Yes_and_Predicted_No- 25\nTrue Positive = 63.23529411764706\nTrue Negative = 93.93939393939394\n\nTest_Data\nTotal Record 20\nAccuracy is 70.0\nCorretly Predicted 14\n\nActual_No_and_Predicted_No- 6\nActual_No_and_Predicted_Yes- 2\nActual_Yes_and_Predicted_Yes- 8\nActual_Yes_and_Predicted_No- 4\nTrue Positive = 66.66666666666666\nTrue Negative = 75.0\n"
     ]
    }
   ],
   "source": [
    "print(\"\\n\\n---------Tree2---------\")\n",
    "print(\"Train_Data\")\n",
    "tree2_pruned(train_data)\n",
    "print(\"\\nTest_Data\")\n",
    "tree2_pruned(test_data)"
   ]
  }
 ]
}