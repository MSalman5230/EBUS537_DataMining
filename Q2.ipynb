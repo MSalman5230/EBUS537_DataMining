{
 "metadata": {
  "language_info": {
   "codemirror_mode": {
    "name": "ipython",
    "version": 3
   },
   "file_extension": ".py",
   "mimetype": "text/x-python",
   "name": "python",
   "nbconvert_exporter": "python",
   "pygments_lexer": "ipython3",
   "version": "3.7.9-final"
  },
  "orig_nbformat": 2,
  "kernelspec": {
   "name": "python3",
   "display_name": "Python 3.7.9 64-bit",
   "metadata": {
    "interpreter": {
     "hash": "8ba994734c9bf2803d0df7aecaf4df512dcc76c10efef425686b3dae54ae7386"
    }
   }
  }
 },
 "nbformat": 4,
 "nbformat_minor": 2,
 "cells": [
  {
   "cell_type": "code",
   "execution_count": 1,
   "metadata": {},
   "outputs": [],
   "source": [
    "import math\n",
    "import numpy as np\n",
    "import pandas as pd"
   ]
  },
  {
   "cell_type": "code",
   "execution_count": null,
   "metadata": {},
   "outputs": [],
   "source": [
    "def Calculate_Gini_Node(node,att,target):\n",
    "    # node is the node in which we need split.\n",
    "    # att is the attribute on which we will split the node and find the gini index. Example PC or Sex or Age\n",
    "    # target is the class label which is \"Survived\"\n",
    "    \n",
    "    gini_weighted=0 # Settomg Gini Weighted to 0 because when we will run the code/loop we will add weightge of each child node to get result\n",
    "\n",
    "    # This loop represents child nodes. it will run 3 time for PC because PC as 3 values 1, 2, 3. and 2 time for Sex as they have 2 values Male, Female\n",
    "    for i in (node[att].value_counts().keys()): #i here represents the attribute value, Example: Male or Female if att == \"Sex\"\n",
    "        \n",
    "        gini=1 #Setting Gini Value as 1 so that I can Substract\n",
    "\n",
    "        # This loop calculates probilibty of Survived Yes and No, ie 1 or 0 then substracts it from gini value of 1\n",
    "        for j in node[node[att]==i][target].value_counts().keys(): #j here represents value of \"Survived\" for correspoding i value , ie 1 or 0\n",
    "            \n",
    "            # node[node[att]==i][\"Survived\"].value_counts()[j] - returns total count of Survived 1 or 0.\n",
    "            # node[node[att]==i][\"Survived\"].value_counts().sum() - returns total number of object in the clild node .\n",
    "            # As the loop with run we keep subtracting value from gini which fits into the formula of gini = 1 - (porbility of yes)sq - (porbility of no)sq\n",
    "            gini = gini - ((node[node[att]==i][target].value_counts()[j] / node[node[att]==i][target].value_counts().sum())**2)\n",
    "\n",
    "        # Here we Calculute the Gini Weighted for all the clild nodes\n",
    "        # len(node) returns the total number of objects in the node\n",
    "        gini_weighted= gini_weighted + (gini * (node[node[att]==i][target].value_counts().sum() / len(node)))\n",
    "        print(\"Gini Impurity for\", att,\"=\",i,\"is\",gini,\"\")\n",
    "\n",
    "\n",
    "    print(\"Weighted Gini for\",att,\"attribute is\",gini_weighted,\"\\n----------------------------------------------\")\n",
    "    return gini_weighted\n",
    "\n",
    "#This Funtion tries all the attributs on a node and returns the attributes which has lowest Gini split\n",
    "def find_best_attribute(node,attributes):\n",
    "    store=[]\n",
    "    gini=0\n",
    "    for i in attributes:\n",
    "        gini=Calculate_Gini_Node(node,i,\"Survived\")\n",
    "        store.append([gini,i])\n",
    "    \n",
    "    print(\"Best Split is on\",min(store)[1])\n",
    "    #return min(store)[1]\n",
    "\n",
    "      \n"
   ]
  },
  {
   "cell_type": "code",
   "execution_count": null,
   "metadata": {},
   "outputs": [],
   "source": [
    "train_data = pd.read_csv('trainDataset.csv')\n",
    "\n",
    "train_data = train_data[['PC', 'Sex', 'Age', 'SS','Survived']]\n",
    "root_node=train_data\n",
    "test_data = pd.read_csv('testDataset.csv')"
   ]
  },
  {
   "source": [
    "# Start Building Tree"
   ],
   "cell_type": "markdown",
   "metadata": {}
  },
  {
   "cell_type": "code",
   "execution_count": null,
   "metadata": {},
   "outputs": [],
   "source": [
    "find_best_attribute(root_node,[\"PC\",\"Sex\",\"Age\",\"SS\"])\n",
    "\n"
   ]
  },
  {
   "source": [
    "# First Split on Sex"
   ],
   "cell_type": "markdown",
   "metadata": {}
  },
  {
   "cell_type": "code",
   "execution_count": null,
   "metadata": {},
   "outputs": [],
   "source": [
    "#1st Split at PC Because it has the lowest Gini value\n",
    "\n",
    "node_1=root_node[root_node[\"Sex\"]==\"male\"]\n",
    "node_2=root_node[root_node[\"Sex\"]==\"female\"]\n",
    "print(node_1[\"Survived\"].value_counts())\n",
    "print(node_2[\"Survived\"].value_counts())\n"
   ]
  },
  {
   "source": [
    "# Sex = male - Branch"
   ],
   "cell_type": "markdown",
   "metadata": {}
  },
  {
   "cell_type": "code",
   "execution_count": null,
   "metadata": {},
   "outputs": [],
   "source": [
    "node_1"
   ]
  },
  {
   "cell_type": "code",
   "execution_count": null,
   "metadata": {},
   "outputs": [],
   "source": [
    "# Finding Best split for 2nd split\n",
    "find_best_attribute(node_1,[\"PC\",\"Sex\",\"Age\",\"SS\"])\n"
   ]
  },
  {
   "cell_type": "code",
   "execution_count": null,
   "metadata": {},
   "outputs": [],
   "source": [
    "#2nd Split at Age for node_1\n",
    "node_1_1=node_1[node_1[\"Age\"]==\"child\"]\n",
    "node_1_2=node_1[node_1[\"Age\"]==\"teenage\"]\n",
    "node_1_3=node_1[node_1[\"Age\"]==\"adult\"]\n",
    "\n",
    "\n",
    "\n",
    "find_best_attribute(node_1_1,[\"PC\",\"Sex\",\"Age\",\"SS\"]) #PC\n",
    "\n",
    "#3rd Split at PC for node_1_1******\n",
    "node_1_1_1=node_1_1[node_1_1[\"PC\"]==1] # leaf node - Not Survived \n",
    "node_1_1_2=node_1_1[node_1_1[\"PC\"]==2] # leaf node -  Survived \n",
    "node_1_1_3=node_1_1[node_1_1[\"PC\"]==3]\n",
    "\n",
    "\n",
    "#find_best_attribute(node_1_1_3,[\"PC\",\"Sex\",\"Age\",\"SS\"]) #SS\n",
    "\n",
    "#4th split at SS for node_1_1_3\n",
    "node_1_1_3_1=node_1_1_3[node_1_1_3[\"SS\"]==0] # leaf node - Survived \n",
    "node_1_1_3_2=node_1_1_3[node_1_1_3[\"SS\"]==1] # leaf node - Not Survived \n",
    "print(node_1_1_3_2[\"Survived\"].value_counts())\n",
    "\n",
    "\n",
    "\n",
    "#3rd Split at PC for node_1_2******\n",
    "\n",
    "#find_best_attribute(node_1_2,[\"PC\",\"Sex\",\"Age\",\"SS\"]) #SS\n",
    "\n",
    "node_1_2_1=node_1_2[node_1_2[\"SS\"]==0] \n",
    "node_1_2_2=node_1_2[node_1_2[\"SS\"]==1] # leaf node -  Not Survived \n",
    "\n",
    "\n",
    "#find_best_attribute(node_1_2_1,[\"PC\",\"Sex\",\"Age\",\"SS\"]) #PC\n",
    "\n",
    "#4th Split at PC for node_1_2_1\n",
    "\n",
    "node_1_2_1_1=node_1_2_1[node_1_2_1[\"PC\"]==1] # leaf node - Not Survived \n",
    "node_1_2_1_2=node_1_2_1[node_1_2_1[\"PC\"]==2] # leaf node - Not Survived \n",
    "node_1_2_1_3=node_1_2_1[node_1_2_1[\"PC\"]==3] # leaf node - Not Survived \n",
    "\n",
    "\n",
    "\n",
    "\n",
    "#find_best_attribute(node_1_3,[\"PC\",\"Sex\",\"Age\",\"SS\"]) #PC\n",
    "#3rd Split at PC for node_1_3******\n",
    "\n",
    "node_1_3_1=node_1_3[node_1_3[\"PC\"]==1] \n",
    "node_1_3_2=node_1_3[node_1_3[\"PC\"]==2] \n",
    "node_1_3_3=node_1_3[node_1_3[\"PC\"]==3] \n",
    "\n",
    "\n",
    "#find_best_attribute(node_1_3_1,[\"PC\",\"Sex\",\"Age\",\"SS\"]) #SS\n",
    "#find_best_attribute(node_1_3_2,[\"PC\",\"Sex\",\"Age\",\"SS\"]) #SS\n",
    "#find_best_attribute(node_1_3_3,[\"PC\",\"Sex\",\"Age\",\"SS\"]) #SS\n",
    "\n",
    "#4th Split at SS for node_1_3_1\n",
    "\n",
    "node_1_3_1_1=node_1_3_1[node_1_3_1[\"SS\"]==0] # leaf node - Not Survived \n",
    "node_1_3_1_2=node_1_3_1[node_1_3_1[\"SS\"]==1] # leaf node - Not Survived \n",
    "\n",
    "\n",
    "#4th Split at SS for node_1_3_2\n",
    "\n",
    "node_1_3_2_1=node_1_3_2[node_1_3_2[\"SS\"]==0] # leaf node - Not Survived \n",
    "node_1_3_2_2=node_1_3_2[node_1_3_2[\"SS\"]==1] # leaf node - Not Survived \n",
    "\n",
    "\n",
    "\n",
    "#4th Split at SS for node_1_3_3\n",
    "\n",
    "node_1_3_3_1=node_1_3_3[node_1_3_3[\"SS\"]==0] # leaf node - Not Survived \n",
    "node_1_3_3_2=node_1_3_3[node_1_3_3[\"SS\"]==1] # leaf node - Not Survived \n",
    "\n",
    "#print(node_1_3_3_1[\"Survived\"].value_counts())\n",
    "#print(node_1_3_3_2[\"Survived\"].value_counts())\n",
    "\n"
   ]
  },
  {
   "cell_type": "code",
   "execution_count": null,
   "metadata": {},
   "outputs": [],
   "source": []
  },
  {
   "cell_type": "code",
   "execution_count": null,
   "metadata": {},
   "outputs": [],
   "source": []
  },
  {
   "cell_type": "code",
   "execution_count": null,
   "metadata": {},
   "outputs": [],
   "source": []
  },
  {
   "cell_type": "code",
   "execution_count": null,
   "metadata": {},
   "outputs": [],
   "source": []
  },
  {
   "source": [
    "# Sex = female - Branch"
   ],
   "cell_type": "markdown",
   "metadata": {}
  },
  {
   "cell_type": "code",
   "execution_count": null,
   "metadata": {},
   "outputs": [],
   "source": [
    "# Finding Best split for 2nd split\n",
    "find_best_attribute(node_2,[\"PC\",\"Sex\",\"Age\",\"SS\"])"
   ]
  },
  {
   "cell_type": "code",
   "execution_count": null,
   "metadata": {},
   "outputs": [],
   "source": [
    "#2nd Split at PC for node_2\n",
    "node_2_1=node_2[node_2[\"PC\"]==1]\n",
    "node_2_2=node_2[node_2[\"PC\"]==2]\n",
    "node_2_3=node_2[node_2[\"PC\"]==3]\n",
    "\n",
    "#find_best_attribute(node_2_1,[\"PC\",\"Sex\",\"Age\",\"SS\"])\n",
    "# 3rd Split at SS for node_2_1\n",
    "node_2_1_1=node_2_1[node_2_1[\"SS\"]==0]\n",
    "node_2_1_2=node_2_1[node_2_1[\"SS\"]==1] # leaf node -  Survived \n",
    "\n",
    "#find_best_attribute(node_2_1_1,[\"PC\",\"Sex\",\"Age\",\"SS\"])\n",
    "# 4th Split at Age for node_2_1_1\n",
    "node_2_1_1_1=node_2_1_1[node_2_1_1[\"Age\"]==\"child\"]# leaf node -  Survived \n",
    "node_2_1_1_2=node_2_1_1[node_2_1_1[\"Age\"]==\"teenage\"]# leaf node -  Survived \n",
    "node_2_1_1_3=node_2_1_1[node_2_1_1[\"Age\"]==\"adult\"]# leaf node -  Survived \n",
    "#-------------------------------------------------------------------------------\n",
    "#ind_best_attribute(node_2_2,[\"PC\",\"Sex\",\"Age\",\"SS\"])\n",
    "# 3rd Split at Age for node_2_2\n",
    "node_2_2_1=node_2_2[node_2_2[\"Age\"]==\"child\"]# leaf node -  Survived \n",
    "node_2_2_2=node_2_2[node_2_2[\"Age\"]==\"teenage\"]# leaf node -  Survived \n",
    "node_2_2_3=node_2_2[node_2_2[\"Age\"]==\"adult\"]\n",
    "\n",
    "\n",
    "#find_best_attribute(node_2_2_3,[\"PC\",\"Sex\",\"Age\",\"SS\"])\n",
    "# 4th Split at SS  for node_2_2_3\n",
    "node_2_2_3_1=node_2_2_3[node_2_2_3[\"SS\"]==0]# leaf node -  Survived \n",
    "node_2_2_3_2=node_2_2_3[node_2_2_3[\"SS\"]==1]# leaf node -  Survived \n",
    "\n",
    "#-------------------------------------------------------------------------------\n",
    "#find_best_attribute(node_2_3,[\"PC\",\"Sex\",\"Age\",\"SS\"])\n",
    "# 3rd Split at SS for node_2_3\n",
    "node_2_3_1=node_2_3[node_2_3[\"SS\"]==0]\n",
    "node_2_3_2=node_2_3[node_2_3[\"SS\"]==1]\n",
    "#find_best_attribute(node_2_3_1,[\"PC\",\"Sex\",\"Age\",\"SS\"])\n",
    "# 4th Split at Age for node_2_3_1\n",
    "node_2_3_1_1=node_2_3_1[node_2_3_1[\"Age\"]==\"child\"]# leaf node -  Survived \n",
    "node_2_3_1_2=node_2_3_1[node_2_3_1[\"Age\"]==\"teenage\"]# leaf node -  Survived \n",
    "node_2_3_1_3=node_2_3_1[node_2_3_1[\"Age\"]==\"adult\"]# leaf node -  Survived \n",
    "\n",
    "#find_best_attribute(node_2_3_2,[\"PC\",\"Sex\",\"Age\",\"SS\"])\n",
    "# 4th Split at Age for node_2_3_2\n",
    "node_2_3_2_1=node_2_3_2[node_2_3_2[\"Age\"]==\"child\"]# leaf node - Not Survived \n",
    "node_2_3_2_2=node_2_3_2[node_2_3_2[\"Age\"]==\"teenage\"]# leaf node - Not Survived \n",
    "node_2_3_2_3=node_2_3_2[node_2_3_2[\"Age\"]==\"adult\"]# leaf node - Not Survived \n",
    "#print(node_2_3_2_1[\"Survived\"].value_counts())\n",
    "#print(node_2_3_2_2[\"Survived\"].value_counts())\n",
    "#print(node_2_3_2[\"Survived\"].value_counts())"
   ]
  },
  {
   "source": [
    "# Result"
   ],
   "cell_type": "markdown",
   "metadata": {}
  },
  {
   "cell_type": "code",
   "execution_count": null,
   "metadata": {},
   "outputs": [],
   "source": [
    "#Model to test data sets\n",
    "def check_accuracy(dataframe):\n",
    "    accuracy_list=[] #[Actual,Predicted]\n",
    "    Survided_Count=0\n",
    "    Dead_Count=0\n",
    "    for index,row in dataframe.iterrows():\n",
    "        # Sex=male---------------------------------------------------------------------------------------------------------\n",
    "        if row[\"Sex\"]==\"male\" and row[\"Age\"]==\"child\" and row[\"PC\"]==2 : # node_1_1_2\n",
    "            accuracy_list.append([row[\"Survived\"],1])\n",
    "            Survided_Count+= 1\n",
    "\n",
    "        elif row[\"Sex\"]==\"male\" and row[\"Age\"]==\"child\" and row[\"PC\"]==3 and row[\"SS\"]==0: # node_1_3_2_1\n",
    "            accuracy_list.append([row[\"Survived\"],1])\n",
    "            Survided_Count+= 1\n",
    "\n",
    "        \n",
    "\n",
    "\n",
    "        # Sex=female---------------------------------------------------------------------------------------------------------\n",
    "\n",
    "        # PC=1\n",
    "        elif row[\"Sex\"]==\"female\" and row[\"PC\"]==1 and row[\"SS\"]==0 and row[\"Age\"]==\"child\": # node_2_1_1_1\n",
    "            accuracy_list.append([row[\"Survived\"],1])\n",
    "            Survided_Count+= 1\n",
    "\n",
    "        elif row[\"Sex\"]==\"female\" and row[\"PC\"]==1 and row[\"SS\"]==0 and row[\"Age\"]==\"teenage\": # node_2_1_1_2\n",
    "            accuracy_list.append([row[\"Survived\"],1])\n",
    "            Survided_Count+= 1\n",
    "\n",
    "        elif row[\"Sex\"]==\"female\" and row[\"PC\"]==1 and row[\"SS\"]==0 and row[\"Age\"]==\"adult\": # node_2_1_1_3\n",
    "            accuracy_list.append([row[\"Survived\"],1])\n",
    "            Survided_Count+= 1\n",
    "\n",
    "        elif row[\"Sex\"]==\"female\" and row[\"PC\"]==1 and row[\"SS\"]==1:# node_2_1_2\n",
    "            accuracy_list.append([row[\"Survived\"],1])\n",
    "            Survided_Count+= 1\n",
    "\n",
    "        # PC=2\n",
    "        elif row[\"Sex\"]==\"female\" and row[\"PC\"]==2 and row[\"Age\"]==\"child\": # node_2_2_1\n",
    "            accuracy_list.append([row[\"Survived\"],1])\n",
    "            Survided_Count+= 1\n",
    "\n",
    "        elif row[\"Sex\"]==\"female\" and row[\"PC\"]==2 and row[\"Age\"]==\"teenage\": # node_2_2_2\n",
    "            accuracy_list.append([row[\"Survived\"],1])\n",
    "            Survided_Count+= 1\n",
    "\n",
    "        elif row[\"Sex\"]==\"female\" and row[\"PC\"]==2 and row[\"Age\"]==\"adult\" and row[\"SS\"]==0: # node_2_2_3_1\n",
    "            accuracy_list.append([row[\"Survived\"],1])\n",
    "            Survided_Count+= 1\n",
    "\n",
    "        elif row[\"Sex\"]==\"female\" and row[\"PC\"]==2 and row[\"Age\"]==\"adult\" and row[\"SS\"]==1: # node_2_2_3_2\n",
    "            accuracy_list.append([row[\"Survived\"],1])\n",
    "            Survided_Count+= 1\n",
    "\n",
    "        # PC=3\n",
    "        elif row[\"Sex\"]==\"female\" and row[\"PC\"]==3 and row[\"SS\"]==0 and row[\"Age\"]==\"child\": # node_2_3_1_1\n",
    "            accuracy_list.append([row[\"Survived\"],1])\n",
    "            Survided_Count+= 1\n",
    "\n",
    "        elif row[\"Sex\"]==\"female\" and row[\"PC\"]==3 and row[\"SS\"]==0 and row[\"Age\"]==\"teenage\": # node_2_3_1_2\n",
    "            accuracy_list.append([row[\"Survived\"],1])\n",
    "            Survided_Count+= 1\n",
    "\n",
    "        elif row[\"Sex\"]==\"female\" and row[\"PC\"]==3 and row[\"SS\"]==0 and row[\"Age\"]==\"adult\": # node_2_3_1_3\n",
    "            accuracy_list.append([row[\"Survived\"],1])\n",
    "            Survided_Count+= 1\n",
    "\n",
    "        # Assinging Dead to accuracy_list\n",
    "        else:\n",
    "            accuracy_list.append([row[\"Survived\"],0])\n",
    "            Dead_Count+= 1\n",
    "\n",
    "    #print(Survided_Count)\n",
    "    #print(Dead_Count)\n",
    "    correct=0\n",
    "    for x,y in accuracy_list:\n",
    "        #print(x,y)\n",
    "        if x==y:\n",
    "            correct+=1\n",
    "\n",
    "    print(correct)\n",
    "    accuracy=(correct/len(accuracy_list))*100\n",
    "    print(\"Accuracy is\",accuracy)\n",
    "\n",
    "    #Confusion Matrix\n",
    "    Actual_No_and_Predicted_No=0\n",
    "    Actual_No_and_Predicted_Yes=0\n",
    "    Actual_Yes_and_Predicted_Yes=0\n",
    "    Actual_Yes_and_Predicted_No=0\n",
    "    \n",
    "\n",
    "    for x,y in accuracy_list:\n",
    "        if x==0 and y==0:\n",
    "            Actual_No_and_Predicted_No+= 1\n",
    "        elif x==0 and y==1:\n",
    "            Actual_No_and_Predicted_Yes+= 1\n",
    "        elif x==1 and y==1:\n",
    "            Actual_Yes_and_Predicted_Yes+= 1\n",
    "        elif x==1 and y==0:\n",
    "            Actual_Yes_and_Predicted_No+= 1\n",
    "    print(\"\\nActual_No_and_Predicted_No-\",Actual_No_and_Predicted_No)\n",
    "    print(\"Actual_No_and_Predicted_Yes-\",Actual_No_and_Predicted_Yes)\n",
    "    print(\"Actual_Yes_and_Predicted_Yes-\",Actual_Yes_and_Predicted_Yes)\n",
    "    print(\"Actual_Yes_and_Predicted_No-\",Actual_Yes_and_Predicted_No)\n",
    "    print(\"True Positive =\",((Actual_Yes_and_Predicted_Yes/(Actual_Yes_and_Predicted_Yes+Actual_Yes_and_Predicted_No))*100))\n",
    "    print(\"True Negative =\",((Actual_No_and_Predicted_No/(Actual_No_and_Predicted_No+Actual_No_and_Predicted_Yes))*100))"
   ]
  },
  {
   "cell_type": "code",
   "execution_count": null,
   "metadata": {},
   "outputs": [],
   "source": [
    "check_accuracy(train_data)\n",
    "check_accuracy(test_data)"
   ]
  },
  {
   "cell_type": "code",
   "execution_count": null,
   "metadata": {},
   "outputs": [],
   "source": []
  },
  {
   "cell_type": "code",
   "execution_count": null,
   "metadata": {},
   "outputs": [],
   "source": [
    "test_data_random = pd.read_csv('testDataset Random.csv')\n",
    "check_accuracy(test_data_random)"
   ]
  }
 ]
}